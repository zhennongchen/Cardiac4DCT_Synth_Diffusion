{
 "cells": [
  {
   "cell_type": "code",
   "execution_count": 9,
   "metadata": {},
   "outputs": [],
   "source": [
    "import sys\n",
    "sys.path.append('/workspace/Documents')\n",
    "import os\n",
    "import nibabel as nb\n",
    "import numpy as np\n",
    "import pandas as pd\n",
    "import shutil\n",
    "from skimage.measure import label, regionprops\n",
    "import Diffusion_motion_field.functions_collection as ff"
   ]
  },
  {
   "cell_type": "code",
   "execution_count": 5,
   "metadata": {},
   "outputs": [],
   "source": [
    "def remove_scatter3D(img,target_label):\n",
    "    new_img = np.copy(img)\n",
    "    new_img[new_img == target_label] = 100\n",
    "    need_to_remove = False\n",
    "   \n",
    "    a = np.copy(img)\n",
    "    \n",
    "    labeled_image = label(a == target_label)\n",
    "    regions = regionprops(labeled_image)\n",
    "    region_sizes = [region.area for region in regions]\n",
    "      \n",
    "    if len(region_sizes) > 1:\n",
    "        need_to_remove = True\n",
    "        \n",
    "    # Step 3: Find Largest Region Label\n",
    "    largest_region_label = np.argmax(region_sizes) + 1  # Adding 1 because labels start from 1\n",
    "\n",
    "    # Step 4: Create Mask for Largest Region\n",
    "    largest_region_mask = (labeled_image == largest_region_label)\n",
    "\n",
    "    # Step 5: Apply Mask to Original Image\n",
    "    result_image = a.copy()\n",
    "    result_image[~largest_region_mask] = 0\n",
    "    new_img[result_image==target_label] = target_label\n",
    "    new_img[new_img == 100] = 0\n",
    "    return new_img, need_to_remove"
   ]
  },
  {
   "cell_type": "code",
   "execution_count": 12,
   "metadata": {},
   "outputs": [
    {
     "name": "stdout",
     "output_type": "stream",
     "text": [
      "region sizes: [32979]\n",
      "need to remove: False\n",
      "region sizes: [29738]\n",
      "need to remove: False\n",
      "region sizes: [25546]\n",
      "need to remove: False\n",
      "region sizes: [21153]\n",
      "need to remove: False\n",
      "region sizes: [18060]\n",
      "need to remove: False\n",
      "region sizes: [14426]\n",
      "need to remove: False\n",
      "region sizes: [12023]\n",
      "need to remove: False\n",
      "region sizes: [10058]\n",
      "need to remove: False\n",
      "region sizes: [8993]\n",
      "need to remove: False\n",
      "region sizes: [8050]\n",
      "need to remove: False\n",
      "region sizes: [8435]\n",
      "need to remove: False\n",
      "region sizes: [8884]\n",
      "need to remove: False\n",
      "region sizes: [9910]\n",
      "need to remove: False\n",
      "region sizes: [12047]\n",
      "need to remove: False\n",
      "region sizes: [16297]\n",
      "need to remove: False\n",
      "region sizes: [21048]\n",
      "need to remove: False\n",
      "region sizes: [23537]\n",
      "need to remove: False\n",
      "region sizes: [28388]\n",
      "need to remove: False\n",
      "region sizes: [32536]\n",
      "need to remove: False\n",
      "region sizes: [33840]\n",
      "need to remove: False\n"
     ]
    }
   ],
   "source": [
    "main_path = '/mnt/camca_NAS/4DCT/mgh_data/predicted_seg'\n",
    "folders = ff.find_all_target_files(['*/*'],main_path)\n",
    "for f in folders:\n",
    "    patient_class = os.path.basename(os.path.dirname(f))\n",
    "    patient_id = os.path.basename(f)\n",
    "\n",
    "    files = ff.sort_timeframe(ff.find_all_target_files(['*.nii.gz'],f),2,'_')\n",
    "    for fff in files:\n",
    "        original_a = nb.load(fff).get_fdata(); original_a = np.round(original_a).astype(int)\n",
    "        a = np.copy(original_a)\n",
    "        a[a != 1] = 0\n",
    "        new_image,need_to_remove = remove_scatter3D(a,1)\n",
    "        print('need to remove:',need_to_remove)\n",
    "        affine = nb.load(fff).affine\n",
    "        header = nb.load(fff).header\n",
    "        nb.save(nb.Nifti1Image(new_image, affine, header), fff)\n",
    "    "
   ]
  },
  {
   "cell_type": "code",
   "execution_count": null,
   "metadata": {},
   "outputs": [],
   "source": []
  }
 ],
 "metadata": {
  "kernelspec": {
   "display_name": "Python 3",
   "language": "python",
   "name": "python3"
  },
  "language_info": {
   "codemirror_mode": {
    "name": "ipython",
    "version": 3
   },
   "file_extension": ".py",
   "mimetype": "text/x-python",
   "name": "python",
   "nbconvert_exporter": "python",
   "pygments_lexer": "ipython3",
   "version": "3.8.10"
  }
 },
 "nbformat": 4,
 "nbformat_minor": 2
}

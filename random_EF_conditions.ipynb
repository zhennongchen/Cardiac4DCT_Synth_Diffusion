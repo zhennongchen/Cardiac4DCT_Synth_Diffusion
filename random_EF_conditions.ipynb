{
 "cells": [
  {
   "cell_type": "markdown",
   "metadata": {},
   "source": [
    "this script generate random EF for model conditional input, so that we have consistent input for validation "
   ]
  },
  {
   "cell_type": "code",
   "execution_count": 1,
   "metadata": {},
   "outputs": [],
   "source": [
    "import sys\n",
    "sys.path.append('/workspace/Documents')\n",
    "# imports\n",
    "import os, sys\n",
    "import numpy as np \n",
    "import pandas as pd\n",
    "\n",
    "import Diffusion_motion_field.Build_lists.Build_list as Build_list\n",
    "import Diffusion_motion_field.functions_collection as ff\n",
    "import Diffusion_motion_field.Data_processing as Data_processing\n",
    "main_path = '/mnt/camca_NAS/4DCT'"
   ]
  },
  {
   "cell_type": "code",
   "execution_count": 2,
   "metadata": {},
   "outputs": [],
   "source": [
    "def generate_EF(ef_original, low, high, threshold = 0.02):\n",
    "    while True:\n",
    "        ef = np.random.uniform(low=low, high=high, size=(1, ))\n",
    "        \n",
    "        if abs(ef - ef_original) > threshold:\n",
    "            break\n",
    "    return ef[0]"
   ]
  },
  {
   "cell_type": "code",
   "execution_count": 4,
   "metadata": {},
   "outputs": [],
   "source": [
    "data = pd.read_excel('/mnt/camca_NAS/4DCT/Patient_lists/uc/patient_list_final_selection_timeframes.xlsx').fillna(2)\n",
    "EF_condition1, EF_condition2, EF_condition3, EF_condition4, EF_condition5 = [], [], [], [], []\n",
    "for i in range(0,len(data)):\n",
    "    row = data.iloc[i]\n",
    "    ef_original = row['EF_sampled_in_10tf_by_mvf']\n",
    "    EF_condition1.append(generate_EF(ef_original, low = 0.05, high = 0.40))\n",
    "    EF_condition2.append(generate_EF(ef_original, low = 0.41, high = 0.494))\n",
    "    EF_condition3.append(generate_EF(ef_original, low = 0.50, high = 0.80))\n",
    "    # EF_condition4.append(generate_EF(ef_original, low = 0.05 + 0.16*3, high = 0.05 + 0.16*4))\n",
    "    # EF_condition5.append(generate_EF(ef_original, low = 0.05 + 0.16*4, high = 0.05 + 0.16*5))\n",
    "data = pd.read_excel('/mnt/camca_NAS/4DCT/Patient_lists/uc/patient_list_final_selection_timeframes.xlsx')\n",
    "new_data = pd.DataFrame()\n",
    "new_data['patient_class'] = data['patient_class']\n",
    "new_data['patient_id'] = data['patient_id']\n",
    "new_data['EF_sampled_in_10tf_by_mvf'] = data['EF_sampled_in_10tf_by_mvf']\n",
    "new_data['EF_condition1'] = EF_condition1\n",
    "new_data['EF_condition2'] = EF_condition2\n",
    "new_data['EF_condition3'] = EF_condition3\n",
    "# new_data['EF_condition4'] = EF_condition4\n",
    "# new_data['EF_condition5'] = EF_condition5\n",
    "new_data.to_excel('/mnt/camca_NAS/4DCT/Patient_lists/uc/random_EF_conditions.xlsx', index=False)"
   ]
  },
  {
   "cell_type": "code",
   "execution_count": null,
   "metadata": {},
   "outputs": [],
   "source": []
  }
 ],
 "metadata": {
  "kernelspec": {
   "display_name": "Python 3",
   "language": "python",
   "name": "python3"
  },
  "language_info": {
   "codemirror_mode": {
    "name": "ipython",
    "version": 3
   },
   "file_extension": ".py",
   "mimetype": "text/x-python",
   "name": "python",
   "nbconvert_exporter": "python",
   "pygments_lexer": "ipython3",
   "version": "3.8.10"
  }
 },
 "nbformat": 4,
 "nbformat_minor": 2
}

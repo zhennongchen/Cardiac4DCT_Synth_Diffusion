{
 "cells": [
  {
   "cell_type": "markdown",
   "metadata": {},
   "source": [
    "You should prepare two things before running this step, please see \n",
    "1. nii images for 4DCT (each cardiac phase as one )\n",
    "\n",
    "\n",
    "in this script, we did X data preprocessing tasks:\n",
    "1. resample the 4DCT image "
   ]
  },
  {
   "cell_type": "code",
   "execution_count": null,
   "metadata": {},
   "outputs": [],
   "source": [
    "import sys\n",
    "sys.path.append('/workspace/Documents')\n",
    "import os\n",
    "import nibabel as nb\n",
    "import numpy as np\n",
    "import pandas as pd\n",
    "import shutil\n",
    "import torch\n",
    "import torch.nn.functional as F\n",
    "from scipy.ndimage import center_of_mass\n",
    "import Diffusion_motion_field.functions_collection as ff\n",
    "import Diffusion_motion_field.Data_processing as Data_processing\n",
    "from Diffusion_motion_field.denoising_diffusion_pytorch.denoising_diffusion_pytorch.conditional_EDM_warp import *"
   ]
  }
 ],
 "metadata": {
  "language_info": {
   "name": "python"
  }
 },
 "nbformat": 4,
 "nbformat_minor": 2
}

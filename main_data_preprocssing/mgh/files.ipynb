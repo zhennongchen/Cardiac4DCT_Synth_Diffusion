{
 "cells": [
  {
   "cell_type": "code",
   "execution_count": 2,
   "metadata": {},
   "outputs": [],
   "source": [
    "import sys\n",
    "sys.path.append('/workspace/Documents')\n",
    "import os\n",
    "import nibabel as nb\n",
    "import numpy as np\n",
    "import pandas as pd\n",
    "import shutil\n",
    "import Diffusion_motion_field.functions_collection as ff"
   ]
  },
  {
   "cell_type": "markdown",
   "metadata": {},
   "source": [
    "### Pick the valid ones in Pull 3\n",
    "in pull 3, there are 183 cases and 16 empty folder (exclude). However, according to Dufan, only some of them are valid/picked for Q. we saved these cases into a txt file"
   ]
  },
  {
   "cell_type": "code",
   "execution_count": 15,
   "metadata": {},
   "outputs": [],
   "source": [
    "txt_file = '/mnt/camca_dufan/research_data/cardiac_ct_4d/Pull_3/picked_cases.txt'\n",
    "valid_list = []\n",
    "with open(txt_file, 'r') as f:\n",
    "    for line in f:\n",
    "        line_str = line.strip()  # removes \\n and spaces\n",
    "        # print(line_str)  # or use it however you want\n",
    "        valid_list.append(line_str)\n",
    "import shutil\n",
    "# copy these cases into a new folder\n",
    "for a in valid_list:\n",
    "    current_folder = os.path.join('/mnt/camca_dufan/research_data/cardiac_ct_4d/Pull_3/Pull_3_anon',a)\n",
    "    des_folder = os.path.join('/mnt/camca_dufan/research_data/cardiac_ct_4d/Pull_3/Pull_3_picked',a)\n",
    "    ff.make_folder([des_folder])\n",
    "    # if os.path.isdir(des_folder) == 0:\n",
    "    #     shutil.copytree(current_folder, des_folder)\n"
   ]
  },
  {
   "cell_type": "code",
   "execution_count": 15,
   "metadata": {},
   "outputs": [],
   "source": [
    "## Put the rest in Pull 3 into Pull 4\n",
    "txt_file = '/mnt/camca_dufan/research_data/cardiac_ct_4d/Pull_3/picked_cases.txt'\n",
    "valid_list = []\n",
    "with open(txt_file, 'r') as f:\n",
    "    for line in f:\n",
    "        line_str = line.strip()  # removes \\n and spaces\n",
    "        # print(line_str)  # or use it however you want\n",
    "        valid_list.append(line_str)\n",
    "# copy the cases not belong to valid list into Pull4\n",
    "folders = ff.find_all_target_files(['*'],os.path.join('/mnt/camca_dufan/research_data/cardiac_ct_4d/Pull_3/Pull_3_anon'))\n",
    "count = 0\n",
    "for i in range(0,folders.shape[0]):\n",
    "    folder = folders[i]\n",
    "    base_name = os.path.basename(folder)\n",
    "    if 'miss' in folder:\n",
    "        continue\n",
    "    if base_name in valid_list:\n",
    "        continue\n",
    "    des_folder = os.path.join('/mnt/camca_dufan/research_data/cardiac_ct_4d/Pull_4',base_name)\n",
    "    assert isinstance(des_folder, str)\n",
    "    assert isinstance(folder, str)\n",
    "    files = ff.find_all_target_files(['*'],folder)  \n",
    "    if os.path.isdir(des_folder) == 0:\n",
    "        ff.make_folder([des_folder])\n",
    "        for f in files:\n",
    "            shutil.copy(f, os.path.join(des_folder, os.path.basename(f)))\n",
    "\n",
    "    break"
   ]
  },
  {
   "cell_type": "markdown",
   "metadata": {},
   "source": [
    "### Rename each case\n",
    "now the case name is too long, we should re-name them into a shorter one and save into a spreadsheet. Then we rename the folders"
   ]
  },
  {
   "cell_type": "code",
   "execution_count": 4,
   "metadata": {},
   "outputs": [],
   "source": [
    "main_folder = os.path.join('/mnt/camca_dufan/research_data/cardiac_ct_4d/')\n",
    "pull_list = ['Pull_1', 'Pull_2', 'Pull_3','Pull_4']\n",
    "count = 1\n",
    "result = []\n",
    "for pull in pull_list:\n",
    "    if pull == 'Pull_1':\n",
    "        pull_folder = os.path.join(main_folder,pull,'AnonymizedCTA_Series_Selected/studies')\n",
    "    elif pull == 'Pull_2':\n",
    "        pull_folder = os.path.join(main_folder,pull,'Studies_function_only')\n",
    "    elif pull == 'Pull_3':\n",
    "        pull_folder = os.path.join(main_folder,pull,'Pull_3_picked')  \n",
    "    else:\n",
    "        pull_folder = os.path.join(main_folder,pull)\n",
    "\n",
    "    cases = ff.find_all_target_files(['*'],pull_folder)\n",
    "\n",
    "    for case in cases:\n",
    "        case_folder = case\n",
    "        case_original_name = os.path.basename(case)\n",
    "        case_index = 'case_'+ str(count)\n",
    "        count+=1\n",
    "        result.append([pull, case_index, case_original_name, case_folder])\n",
    "df = pd.DataFrame(result, columns=['patient_class', 'patient_id', 'case_original_name', 'case_dicom_folder'])\n",
    "file = '/mnt/camca_NAS/4DCT/Patient_lists/mgh/patient_name_correspondance.xlsx'\n",
    "df.to_excel(file, index=False)"
   ]
  },
  {
   "cell_type": "code",
   "execution_count": 5,
   "metadata": {},
   "outputs": [],
   "source": [
    "# rename the folder\n",
    "main_path = '/mnt/camca_NAS/4DCT/mgh_data/nii-images-raw'\n",
    "info = pd.read_excel('/mnt/camca_NAS/4DCT/Patient_lists/mgh/patient_name_correspondance.xlsx')\n",
    "folders = ff.find_all_target_files(['Pull_4/*'],main_path)\n",
    "for f in folders:\n",
    "    case_id = os.path.basename(f)\n",
    "    row = info[info['case_original_name'] == case_id]\n",
    "    patient_class = row['patient_class'].values[0]\n",
    "    patient_id = row['patient_id'].values[0]\n",
    "    new_folder = os.path.join('/mnt/camca_NAS/4DCT/mgh_data/nii-images/',patient_class, patient_id)\n",
    "    ff.make_folder([os.path.dirname(new_folder), new_folder])\n",
    "    if os.path.isfile(os.path.join(new_folder,'img.nii.gz'))== 0:\n",
    "        shutil.copy2(os.path.join(f,'img.nii.gz'), os.path.join(new_folder,'img.nii.gz'))\n"
   ]
  },
  {
   "cell_type": "markdown",
   "metadata": {},
   "source": [
    "#### delete"
   ]
  },
  {
   "cell_type": "code",
   "execution_count": 10,
   "metadata": {},
   "outputs": [],
   "source": [
    "main_path = '/mnt/camca_NAS/4DCT/mgh_data/nii-images'\n",
    "folders = ff.find_all_target_files(['Pull_4/*/img.nii.gz'],main_path)\n",
    "for f in folders:\n",
    "    os.remove(f)"
   ]
  },
  {
   "cell_type": "code",
   "execution_count": null,
   "metadata": {},
   "outputs": [],
   "source": []
  }
 ],
 "metadata": {
  "kernelspec": {
   "display_name": "Python 3",
   "language": "python",
   "name": "python3"
  },
  "language_info": {
   "codemirror_mode": {
    "name": "ipython",
    "version": 3
   },
   "file_extension": ".py",
   "mimetype": "text/x-python",
   "name": "python",
   "nbconvert_exporter": "python",
   "pygments_lexer": "ipython3",
   "version": "3.8.10"
  }
 },
 "nbformat": 4,
 "nbformat_minor": 2
}

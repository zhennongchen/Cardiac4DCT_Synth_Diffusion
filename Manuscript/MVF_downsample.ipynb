{
 "cells": [
  {
   "cell_type": "code",
   "execution_count": 1,
   "metadata": {},
   "outputs": [],
   "source": [
    "import sys\n",
    "sys.path.append('/workspace/Documents')\n",
    "# imports\n",
    "import os, sys\n",
    "import numpy as np \n",
    "import pandas as pd\n",
    "import random\n",
    "import nibabel as nb\n",
    "import cv2\n",
    "import ast\n",
    "import matplotlib.pyplot as plt\n",
    "from scipy.ndimage import zoom\n",
    "from skimage.measure import block_reduce\n",
    "\n",
    "import Diffusion_motion_field.Build_lists.Build_list as Build_list\n",
    "import Diffusion_motion_field.functions_collection as ff\n",
    "import Diffusion_motion_field.Data_processing as Data_processing\n",
    "\n",
    "main_path = '/mnt/camca_NAS/4DCT/pictures/manuscript'"
   ]
  },
  {
   "cell_type": "markdown",
   "metadata": {},
   "source": [
    "## image"
   ]
  },
  {
   "cell_type": "code",
   "execution_count": null,
   "metadata": {},
   "outputs": [],
   "source": [
    "save_folder = os.path.join(main_path, 'illustration_of_MVF')\n",
    "ff.make_folder([save_folder])\n",
    "patient_class = 'Pull_2'\n",
    "patient_id = 'case_72'\n",
    "mvf = nb.load(os.path.join('/mnt/camca_NAS/4DCT/mvf_warp0_onecase', patient_class, patient_id, 'voxel_final/0.nii.gz')).get_fdata()\n",
    "print(mvf.shape)"
   ]
  },
  {
   "cell_type": "code",
   "execution_count": null,
   "metadata": {},
   "outputs": [],
   "source": [
    "# plot x\n",
    "slice_n = 48\n",
    "mvf_x = mvf[:,:,slice_n,0]; mvf_x = Data_processing.crop_or_pad(mvf_x, [100,100], np.min(mvf_x))\n",
    "\n",
    "mvf_x = block_reduce(image=mvf_x, block_size=(4,4), func=np.mean)\n",
    "# mvf_x = np.zeros_like(mvf_x)\n",
    "\n",
    "plt.figure(figsize=(5, 5))\n",
    "im = plt.imshow(mvf_x.T, cmap='hot', origin='lower' ,vmin = -5, vmax = 5)  # 'jet' or 'viridis' are common\n",
    "plt.axis('off')\n",
    "# plt.colorbar(im, label='Displacement (voxel)')\n",
    "# plt.title('X-direction Motion Vector Field')\n",
    "# plt.xlabel('X')\n",
    "# plt.ylabel('Y')\n",
    "plt.tight_layout()\n",
    "# plt.show()\n",
    "plt.savefig(os.path.join(save_folder, 'mvf_t0_downsampled.pdf'),format = 'pdf', bbox_inches='tight',pad_inches=0)\n",
    "\n"
   ]
  },
  {
   "cell_type": "code",
   "execution_count": null,
   "metadata": {},
   "outputs": [],
   "source": [
    "# show that downsampled MVF can faithfully represent original MVF\n",
    "# image_warped_mvf_original is by applying original MVF\n",
    "# image_warped_mvf_down_up is by applying downsampled-then-upsample MVF\n",
    "slice_n = 48\n",
    "WL = -220\n",
    "WW = 1770\n",
    "img_ori = nb.load(os.path.join('/mnt/camca_NAS/4DCT/reference/',patient_class, patient_id, 'image_warped_mvf_original/6.nii.gz')).get_fdata()[:,:,slice_n]\n",
    "img_ori = Data_processing.crop_or_pad(img_ori, [100,100], np.min(img_ori))\n",
    "\n",
    "img_down_up  = nb.load(os.path.join('/mnt/camca_NAS/4DCT/reference/',patient_class, patient_id, 'image_warped_mvf_down_up/6.nii.gz')).get_fdata()[:,:,slice_n]\n",
    "img_down_up = Data_processing.crop_or_pad(img_down_up, [100,100], np.min(img_down_up))\n",
    "ff.save_grayscale_image(np.flip(img_ori.T,axis = 0),os.path.join(save_folder,'img_warped_mvf_original.png'), WL=WL, WW=WW)\n",
    "ff.save_grayscale_image(np.flip(img_down_up.T,axis = 0),os.path.join(save_folder,'img_warped_mvf_down_up.png'), WL=WL, WW=WW)\n",
    "\n",
    "img_diff = abs(img_down_up - img_ori)\n",
    "mae = np.mean(img_diff)\n",
    "print('mae:', mae)\n",
    "ff.save_grayscale_image(np.flip(img_diff.T,axis = 0),os.path.join(save_folder,'img_diff.png'), WL=WL, WW=WW)"
   ]
  },
  {
   "cell_type": "markdown",
   "metadata": {},
   "source": [
    "## statistics"
   ]
  },
  {
   "cell_type": "code",
   "execution_count": 3,
   "metadata": {},
   "outputs": [
    {
     "name": "stdout",
     "output_type": "stream",
     "text": [
      "skipped: Pull_3 case_128\n",
      "skipped: Pull_2 case_85\n"
     ]
    }
   ],
   "source": [
    "data_sheet = os.path.join('/mnt/camca_NAS/4DCT/Patient_lists/mgh/patient_list_MVF_diffusion_train_test.xlsx')\n",
    "b = Build_list.Build(data_sheet)\n",
    "patient_class_list, patient_id_list,_ = b.__build__(batch_list = [0,1,2,3,4,5])\n",
    "\n",
    "results = []\n",
    "for i in range(0,patient_class_list.shape[0]):\n",
    "    patient_class = patient_class_list[i]\n",
    "    patient_id = patient_id_list[i]\n",
    "    \n",
    "    if os.path.isfile(os.path.join('/mnt/camca_NAS/4DCT/reference/', patient_class, patient_id, 'image_warped_mvf_original/6.nii.gz')) is False:\n",
    "        print('skipped:', patient_class, patient_id)\n",
    "        continue\n",
    "    image_by_original_mvf = nb.load(os.path.join('/mnt/camca_NAS/4DCT/reference/', patient_class, patient_id, 'image_warped_mvf_original/6.nii.gz')).get_fdata()\n",
    "    image_by_down_up_mvf = nb.load(os.path.join('/mnt/camca_NAS/4DCT/reference/', patient_class, patient_id, 'image_warped_mvf_down_up/6.nii.gz')).get_fdata()\n",
    "\n",
    "    mae = np.mean(np.abs(image_by_down_up_mvf - image_by_original_mvf))\n",
    "    results.append([patient_class, patient_id, mae])\n",
    "    df = pd.DataFrame(results, columns=['patient_class', 'patient_id', 'mae'])\n",
    "    df.to_excel(os.path.join('/mnt/camca_NAS/4DCT/Patient_lists/mgh/mae_MVF_down_up_vs_original.xlsx'), index=False)\n",
    "\n"
   ]
  },
  {
   "cell_type": "markdown",
   "metadata": {},
   "source": []
  },
  {
   "cell_type": "code",
   "execution_count": null,
   "metadata": {},
   "outputs": [],
   "source": []
  }
 ],
 "metadata": {
  "kernelspec": {
   "display_name": "Python 3",
   "language": "python",
   "name": "python3"
  },
  "language_info": {
   "codemirror_mode": {
    "name": "ipython",
    "version": 3
   },
   "file_extension": ".py",
   "mimetype": "text/x-python",
   "name": "python",
   "nbconvert_exporter": "python",
   "pygments_lexer": "ipython3",
   "version": "3.8.10"
  }
 },
 "nbformat": 4,
 "nbformat_minor": 2
}

{
 "cells": [
  {
   "cell_type": "code",
   "execution_count": 2,
   "metadata": {},
   "outputs": [],
   "source": [
    "import sys\n",
    "sys.path.append('/workspace/Documents')\n",
    "# imports\n",
    "import os, sys\n",
    "import numpy as np \n",
    "import pandas as pd\n",
    "import nibabel as nb\n",
    "import matplotlib.pyplot as plt\n",
    "from scipy.stats import pearsonr\n",
    "from scipy.stats import linregress\n",
    "from sklearn.metrics import r2_score\n",
    "from scipy.stats import ttest_ind, ttest_rel\n",
    "from scipy.stats import wilcoxon\n",
    "\n",
    "import Diffusion_motion_field.functions_collection as ff\n",
    "\n",
    "main_path = '/mnt/camca_NAS/4DCT/pictures'"
   ]
  },
  {
   "cell_type": "code",
   "execution_count": 3,
   "metadata": {},
   "outputs": [
    {
     "name": "stdout",
     "output_type": "stream",
     "text": [
      "(120, 6)\n"
     ]
    }
   ],
   "source": [
    "ef_list = pd.read_excel(os.path.join('/mnt/camca_NAS/4DCT/models/MVF_EDM_down_10tf_imgcon_EFcon_warp_orires/EF_from_warploss_results_epoch1930_edited.xlsx'))\n",
    "ef_list = ef_list.iloc[:-1]\n",
    "\n",
    "ef_list = ef_list[ef_list['round_test'] != 0]\n",
    "print(ef_list.shape)"
   ]
  },
  {
   "cell_type": "code",
   "execution_count": 8,
   "metadata": {},
   "outputs": [
    {
     "name": "stdout",
     "output_type": "stream",
     "text": [
      "gt ef: 0.41 pred ef: 0.3978200256824493\n",
      "gt ef: 0.43 pred ef: 0.3984933793544769\n",
      "gt ef: 0.49 pred ef: 0.4967566728591919\n",
      "gt ef: 0.41 pred ef: 0.4037176370620728\n",
      "gt ef: 0.43 pred ef: 0.3975272476673126\n",
      "gt ef: 0.41 pred ef: 0.3957336246967316\n",
      "gt ef: 0.43 pred ef: 0.4036313593387604\n",
      "gt ef: 0.47 pred ef: 0.4969735741615295\n",
      "reduced vs reduced: 40\n",
      "reduced vs mild: 0\n",
      "reduced vs normal: 0\n",
      "mild vs reduced: 6\n",
      "mild vs mild: 32\n",
      "mild vs normal: 2\n",
      "normal vs reduced: 0\n",
      "normal vs mild: 0\n",
      "normal vs normal: 40\n"
     ]
    }
   ],
   "source": [
    "gt_reduced_pred_reduced = 0\n",
    "gt_reduced_pred_mild = 0\n",
    "gt_reduced_pred_normal = 0\n",
    "gt_mild_pred_reduced = 0\n",
    "gt_mild_pred_mild = 0\n",
    "gt_mild_pred_normal = 0\n",
    "gt_normal_pred_reduced = 0\n",
    "gt_normal_pred_mild = 0\n",
    "gt_normal_pred_normal = 0\n",
    "\n",
    "\n",
    "for i in range(ef_list.shape[0]):\n",
    "    row = ef_list.iloc[i]\n",
    "    ef_gt = row['preset_EF']\n",
    "    ef_pred = row['pred_EF']\n",
    "\n",
    "    if ef_gt<0.405:\n",
    "        gt_label = 'reduced'\n",
    "    elif ef_gt >= 0.405 and ef_gt < 0.50:\n",
    "        gt_label = 'mild'\n",
    "    else:\n",
    "        gt_label = 'normal'\n",
    "\n",
    "    if ef_pred<0.405:\n",
    "        pred_label = 'reduced'\n",
    "    elif ef_pred >= 0.405 and ef_pred < 0.495:\n",
    "        pred_label = 'mild'\n",
    "    else:\n",
    "        pred_label = 'normal'\n",
    "\n",
    "    if gt_label == 'reduced' and pred_label == 'reduced':\n",
    "        gt_reduced_pred_reduced += 1\n",
    "    elif gt_label == 'reduced' and pred_label == 'mild':\n",
    "        gt_reduced_pred_mild += 1\n",
    "    elif gt_label == 'reduced' and pred_label == 'normal':\n",
    "        gt_reduced_pred_normal += 1\n",
    "    elif gt_label == 'mild' and pred_label == 'reduced':\n",
    "        print('gt ef:', ef_gt, 'pred ef:', ef_pred)\n",
    "        gt_mild_pred_reduced += 1\n",
    "    elif gt_label == 'mild' and pred_label == 'mild':\n",
    "        gt_mild_pred_mild += 1\n",
    "    elif gt_label == 'mild' and pred_label == 'normal':\n",
    "        print('gt ef:', ef_gt, 'pred ef:', ef_pred)\n",
    "        gt_mild_pred_normal += 1\n",
    "    elif gt_label == 'normal' and pred_label == 'reduced':\n",
    "        gt_normal_pred_reduced += 1\n",
    "    elif gt_label == 'normal' and pred_label == 'mild':\n",
    "        gt_normal_pred_mild += 1\n",
    "    elif gt_label == 'normal' and pred_label == 'normal':\n",
    "        gt_normal_pred_normal += 1\n",
    "print('reduced vs reduced:', gt_reduced_pred_reduced)\n",
    "print('reduced vs mild:', gt_reduced_pred_mild)\n",
    "print('reduced vs normal:', gt_reduced_pred_normal)\n",
    "print('mild vs reduced:', gt_mild_pred_reduced)\n",
    "print('mild vs mild:', gt_mild_pred_mild)\n",
    "print('mild vs normal:', gt_mild_pred_normal)\n",
    "print('normal vs reduced:', gt_normal_pred_reduced)\n",
    "print('normal vs mild:', gt_normal_pred_mild)\n",
    "print('normal vs normal:', gt_normal_pred_normal)"
   ]
  },
  {
   "cell_type": "code",
   "execution_count": null,
   "metadata": {},
   "outputs": [],
   "source": []
  }
 ],
 "metadata": {
  "kernelspec": {
   "display_name": "Python 3",
   "language": "python",
   "name": "python3"
  },
  "language_info": {
   "codemirror_mode": {
    "name": "ipython",
    "version": 3
   },
   "file_extension": ".py",
   "mimetype": "text/x-python",
   "name": "python",
   "nbconvert_exporter": "python",
   "pygments_lexer": "ipython3",
   "version": "3.8.10"
  }
 },
 "nbformat": 4,
 "nbformat_minor": 2
}

{
 "cells": [
  {
   "cell_type": "code",
   "execution_count": 2,
   "metadata": {},
   "outputs": [],
   "source": [
    "import sys\n",
    "sys.path.append('/workspace/Documents')\n",
    "# imports\n",
    "import os, sys\n",
    "import numpy as np \n",
    "import pandas as pd\n",
    "import random\n",
    "import nibabel as nb\n",
    "import cv2\n",
    "import ast\n",
    "import matplotlib.pyplot as plt\n",
    "from scipy.ndimage import zoom\n",
    "from skimage.measure import block_reduce\n",
    "\n",
    "import Diffusion_motion_field.Build_lists.Build_list as Build_list\n",
    "import Diffusion_motion_field.functions_collection as ff\n",
    "import Diffusion_motion_field.Data_processing as Data_processing\n",
    "\n",
    "main_path = '/mnt/camca_NAS/4DCT/pictures/manuscript'"
   ]
  },
  {
   "cell_type": "markdown",
   "metadata": {},
   "source": [
    "### picture of model illustration"
   ]
  },
  {
   "cell_type": "code",
   "execution_count": 3,
   "metadata": {},
   "outputs": [
    {
     "name": "stdout",
     "output_type": "stream",
     "text": [
      "original shape: (99, 99, 79)\n"
     ]
    }
   ],
   "source": [
    "save_folder = os.path.join(main_path, 'model_illustration')\n",
    "ff.make_folder([save_folder])\n",
    "patient_class = 'Pull_2'\n",
    "patient_id = 'case_72'\n",
    "shape = nb.load(os.path.join('/mnt/camca_NAS/4DCT/mgh_data/nii-images',patient_class,patient_id,'img-nii-resampled-1.5mm/0.nii.gz')).get_fdata().shape\n",
    "print('original shape:', shape)"
   ]
  },
  {
   "cell_type": "code",
   "execution_count": 14,
   "metadata": {},
   "outputs": [
    {
     "name": "stdout",
     "output_type": "stream",
     "text": [
      "(160, 160, 96, 3)\n"
     ]
    },
    {
     "data": {
      "image/png": "[encoded data removed]",
      "text/plain": [
       "<Figure size 500x500 with 1 Axes>"
      ]
     },
     "metadata": {},
     "output_type": "display_data"
    }
   ],
   "source": [
    "### MVF\n",
    "mvf = nb.load(os.path.join('/mnt/camca_NAS/4DCT/mvf_warp0_onecase', patient_class, patient_id, 'voxel_final/6.nii.gz')).get_fdata()\n",
    "print(mvf.shape)\n",
    "\n",
    "slice_n = 48\n",
    "mvf_x = mvf[:,:,slice_n,2]; mvf_x = Data_processing.crop_or_pad(mvf_x, [100,100], np.min(mvf_x))\n",
    "\n",
    "# mvf_x = block_reduce(image=mvf_x, block_size=(4,4), func=np.mean)\n",
    "# add random noise\n",
    "# mvf_x = mvf_x + np.random.rand(*mvf_x.shape)*2\n",
    "# mvf_x = np.zeros_like(mvf_x)\n",
    "\n",
    "plt.figure(figsize=(5, 5))\n",
    "im = plt.imshow(mvf_x.T, cmap='hot', origin='lower' ,vmin = -5, vmax = 5)  # 'jet' or 'viridis' are common\n",
    "plt.axis('off')\n",
    "# plt.colorbar(im, label='Displacement (voxel)')\n",
    "# plt.title('X-direction Motion Vector Field')\n",
    "# plt.xlabel('X')\n",
    "# plt.ylabel('Y')\n",
    "plt.tight_layout()\n",
    "# plt.show()\n",
    "plt.savefig(os.path.join(save_folder, patient_class + '_' + patient_id + '_mvf_z_t6_original_resolution.pdf'),format = 'pdf', bbox_inches='tight',pad_inches=0)\n"
   ]
  },
  {
   "cell_type": "code",
   "execution_count": 20,
   "metadata": {},
   "outputs": [],
   "source": [
    "# image (template)\n",
    "slice_n = 48\n",
    "WL = -220\n",
    "WW = 1770\n",
    "# original resolution\n",
    "img_ori = nb.load(os.path.join('/mnt/camca_NAS/4DCT/reference/',patient_class, patient_id, 'image_original/18.nii.gz')).get_fdata()[:,:,slice_n]\n",
    "img_ori = Data_processing.crop_or_pad(img_ori, [100,100], np.min(img_ori))\n",
    "img_down = block_reduce(image=img_ori, block_size=(4,4), func=np.mean)\n",
    "img_down_up = zoom(img_down, (4, 4), order=1)\n",
    "\n",
    "ff.save_grayscale_image(np.flip(img_ori.T,axis = 0),os.path.join(save_folder,patient_class + '_' + patient_id +'_img_ori_t18.png'), WL=WL, WW=WW)\n",
    "ff.save_grayscale_image(np.flip(img_down.T,axis = 0),os.path.join(save_folder,patient_class + '_' + patient_id +'_img_down_t18.png'), WL=WL, WW=WW)\n",
    "# ff.save_grayscale_image(np.flip(img_down_up.T,axis = 0),os.path.join(save_folder,'img_down_up.png'), WL=WL, WW=WW)"
   ]
  },
  {
   "cell_type": "markdown",
   "metadata": {},
   "source": [
    "### showcase motion vector field"
   ]
  },
  {
   "cell_type": "code",
   "execution_count": 38,
   "metadata": {},
   "outputs": [
    {
     "name": "stdout",
     "output_type": "stream",
     "text": [
      "(160, 160, 96, 3)\n"
     ]
    }
   ],
   "source": [
    "save_folder = os.path.join(main_path, 'illustration_of_MVF')\n",
    "ff.make_folder([save_folder])\n",
    "patient_class = 'Pull_2'\n",
    "patient_id = 'case_72'\n",
    "mvf = nb.load(os.path.join('/mnt/camca_NAS/4DCT/mvf_warp0_onecase', patient_class, patient_id, 'voxel_final/0.nii.gz')).get_fdata()\n",
    "print(mvf.shape)"
   ]
  },
  {
   "cell_type": "code",
   "execution_count": 42,
   "metadata": {},
   "outputs": [
    {
     "data": {
      "image/png": "[encoded data removed]",
      "text/plain": [
       "<Figure size 500x500 with 1 Axes>"
      ]
     },
     "metadata": {},
     "output_type": "display_data"
    }
   ],
   "source": [
    "# plot x\n",
    "slice_n = 48\n",
    "mvf_x = mvf[:,:,slice_n,0]; mvf_x = Data_processing.crop_or_pad(mvf_x, [100,100], np.min(mvf_x))\n",
    "\n",
    "mvf_x = block_reduce(image=mvf_x, block_size=(4,4), func=np.mean)\n",
    "# mvf_x = np.zeros_like(mvf_x)\n",
    "\n",
    "plt.figure(figsize=(5, 5))\n",
    "im = plt.imshow(mvf_x.T, cmap='hot', origin='lower' ,vmin = -5, vmax = 5)  # 'jet' or 'viridis' are common\n",
    "plt.axis('off')\n",
    "# plt.colorbar(im, label='Displacement (voxel)')\n",
    "# plt.title('X-direction Motion Vector Field')\n",
    "# plt.xlabel('X')\n",
    "# plt.ylabel('Y')\n",
    "plt.tight_layout()\n",
    "# plt.show()\n",
    "plt.savefig(os.path.join(save_folder, 'mvf_t0_downsampled.pdf'),format = 'pdf', bbox_inches='tight',pad_inches=0)\n",
    "\n"
   ]
  },
  {
   "cell_type": "code",
   "execution_count": 26,
   "metadata": {},
   "outputs": [],
   "source": [
    "# show that downsampled MVF can faithfully represent original MVF\n",
    "# image_warped_mvf_original is by applying original MVF\n",
    "# image_warped_mvf_down_up is by applying downsampled-then-upsample MVF\n",
    "slice_n = 48\n",
    "WL = -220\n",
    "WW = 1770\n",
    "img_ori = nb.load(os.path.join('/mnt/camca_NAS/4DCT/reference/',patient_class, patient_id, 'image_warped_mvf_original/6.nii.gz')).get_fdata()[:,:,slice_n]\n",
    "img_ori = Data_processing.crop_or_pad(img_ori, [100,100], np.min(img_ori))\n",
    "\n",
    "img_down_up  = nb.load(os.path.join('/mnt/camca_NAS/4DCT/reference/',patient_class, patient_id, 'image_warped_mvf_down_up/6.nii.gz')).get_fdata()[:,:,slice_n]\n",
    "img_down_up = Data_processing.crop_or_pad(img_down_up, [100,100], np.min(img_down_up))\n",
    "ff.save_grayscale_image(np.flip(img_ori.T,axis = 0),os.path.join(save_folder,'img_warped_mvf_original.png'), WL=WL, WW=WW)\n",
    "ff.save_grayscale_image(np.flip(img_down_up.T,axis = 0),os.path.join(save_folder,'img_warped_mvf_down_up.png'), WL=WL, WW=WW)\n",
    "\n",
    "img_diff = abs(img_down_up - img_ori)\n",
    "mae = np.mean(img_diff)\n",
    "print('mae:', mae)\n",
    "ff.save_grayscale_image(np.flip(img_diff.T,axis = 0),os.path.join(save_folder,'img_diff.png'), WL=WL, WW=WW)"
   ]
  },
  {
   "cell_type": "markdown",
   "metadata": {},
   "source": [
    "### Voxelmorph"
   ]
  },
  {
   "cell_type": "code",
   "execution_count": 43,
   "metadata": {},
   "outputs": [],
   "source": [
    "save_folder = os.path.join(main_path, 'illustration_of_Voxelmorph')\n",
    "ff.make_folder([save_folder])\n",
    "patient_class = 'Pull_2'\n",
    "patient_id = 'case_72'\n",
    "slice_n = 48\n",
    "WL = -220\n",
    "WW = 1770\n",
    "\n",
    "\n",
    "img_ori_ed = nb.load(os.path.join('/mnt/camca_NAS/4DCT/reference/',patient_class, patient_id, 'image_original/0.nii.gz')).get_fdata()[:,:,slice_n]\n",
    "img_ori_ed = Data_processing.crop_or_pad(img_ori_ed, [100,100], np.min(img_ori_ed))\n",
    "\n",
    "img_ori_es = nb.load(os.path.join('/mnt/camca_NAS/4DCT/reference/',patient_class, patient_id, 'image_original/6.nii.gz')).get_fdata()[:,:,slice_n]\n",
    "img_ori_es = Data_processing.crop_or_pad(img_ori_es, [100,100], np.min(img_ori_es))\n",
    "\n",
    "img_es_by_mvf = nb.load(os.path.join('/mnt/camca_NAS/4DCT/reference/',patient_class, patient_id, 'image_warped_mvf_original/6.nii.gz')).get_fdata()[:,:,slice_n]\n",
    "img_es_by_mvf = Data_processing.crop_or_pad(img_es_by_mvf, [100,100], np.min(img_es_by_mvf))\n",
    "\n",
    "ff.save_grayscale_image(np.flip(img_ori_ed.T,axis = 0),os.path.join(save_folder,'img_ori_ed.png'), WL=WL, WW=WW)\n",
    "ff.save_grayscale_image(np.flip(img_ori_es.T,axis = 0),os.path.join(save_folder,'img_ori_es.png'), WL=WL, WW=WW)\n",
    "ff.save_grayscale_image(np.flip(img_es_by_mvf.T,axis = 0),os.path.join(save_folder,'img_es_by_mvf.png'), WL=WL, WW=WW)"
   ]
  },
  {
   "cell_type": "markdown",
   "metadata": {},
   "source": [
    "### Diffusion model"
   ]
  },
  {
   "cell_type": "code",
   "execution_count": 64,
   "metadata": {},
   "outputs": [],
   "source": [
    "# # illustration\n",
    "# save_folder = os.path.join(main_path, 'illustration_of_diffusion_model')\n",
    "# ff.make_folder([save_folder])\n",
    "# patient_class = 'Pull_2'\n",
    "# patient_id = 'case_72'\n",
    "# mvf = nb.load(os.path.join('/mnt/camca_NAS/4DCT/mvf_warp0_onecase', patient_class, patient_id, 'voxel_final/6.nii.gz')).get_fdata()\n",
    "# print(mvf.shape)\n",
    "\n",
    "# # plot x\n",
    "# slice_n = 48\n",
    "# mvf_x = mvf[:,:,slice_n,0]; mvf_x = Data_processing.crop_or_pad(mvf_x, [100,100], np.min(mvf_x))\n",
    "# mvf_x = block_reduce(image=mvf_x, block_size=(4,4), func=np.mean)\n",
    "# # add random noise \n",
    "# mvf_x = mvf_x + np.random.rand(*mvf_x.shape)*2\n",
    "\n",
    "# # # pure noise\n",
    "# # mvf_x = np.random.randn(*mvf_x.shape) * 1.1\n",
    "# # # print('range of mvf_x:', np.min(mvf_x), np.max(mvf_x))\n",
    "# # mvf_x = np.clip(mvf_x, -4, 4)\n",
    "\n",
    "# plt.figure(figsize=(5, 5))\n",
    "# im = plt.imshow(mvf_x.T, cmap='hot', origin='lower' ,vmin = -5, vmax = 5)  # 'jet' or 'viridis' are common\n",
    "# plt.axis('off')\n",
    "# # plt.colorbar(im, label='Displacement (voxel)')\n",
    "# # plt.title('X-direction Motion Vector Field')\n",
    "# # plt.xlabel('X')\n",
    "# # plt.ylabel('Y')\n",
    "# plt.tight_layout()\n",
    "# # plt.show()\n",
    "# plt.savefig(os.path.join(save_folder, 'gaussian.pdf'),format = 'pdf', bbox_inches='tight',pad_inches=0)\n",
    "\n"
   ]
  },
  {
   "cell_type": "code",
   "execution_count": null,
   "metadata": {},
   "outputs": [],
   "source": [
    "# conditional input"
   ]
  }
 ],
 "metadata": {
  "kernelspec": {
   "display_name": "Python 3",
   "language": "python",
   "name": "python3"
  },
  "language_info": {
   "codemirror_mode": {
    "name": "ipython",
    "version": 3
   },
   "file_extension": ".py",
   "mimetype": "text/x-python",
   "name": "python",
   "nbconvert_exporter": "python",
   "pygments_lexer": "ipython3",
   "version": "3.8.10"
  }
 },
 "nbformat": 4,
 "nbformat_minor": 2
}

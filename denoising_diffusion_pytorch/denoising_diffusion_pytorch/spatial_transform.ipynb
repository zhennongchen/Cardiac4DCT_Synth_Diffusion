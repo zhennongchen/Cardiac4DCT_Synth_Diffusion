{
 "cells": [
  {
   "cell_type": "code",
   "execution_count": 31,
   "metadata": {},
   "outputs": [],
   "source": [
    "import sys\n",
    "sys.path.append('/workspace/Documents')\n",
    "# imports\n",
    "import os, sys\n",
    "import numpy as np \n",
    "import pandas as pd\n",
    "import nibabel as nb\n",
    "import ast\n",
    "import torch\n",
    "from ema_pytorch import EMA\n",
    "import torch.nn as nn\n",
    "import torch.nn.functional as F\n",
    "\n",
    "import Diffusion_motion_field.Build_lists.Build_list as Build_list\n",
    "import Diffusion_motion_field.functions_collection as ff\n",
    "import Diffusion_motion_field.Data_processing as Data_processing\n",
    "import Diffusion_motion_field.Generator as Generator\n",
    "import Diffusion_motion_field.denoising_diffusion_pytorch.denoising_diffusion_pytorch.conditional_diffusion_3D as ddpm_3D\n",
    "import Diffusion_motion_field.denoising_diffusion_pytorch.denoising_diffusion_pytorch.conditional_EDM as edm\n",
    "\n",
    "main_path = '/mnt/camca_NAS/4DCT'\n",
    "\n",
    "# turn pred_mvf into voxels unit\n",
    "class DeNormalizeMVF(nn.Module):\n",
    "    def __init__(self, image_min=-20.0, image_max=20.0):\n",
    "        super().__init__()\n",
    "        self.register_buffer('image_min', torch.tensor(image_min))\n",
    "        self.register_buffer('image_max', torch.tensor(image_max))\n",
    "\n",
    "    def forward(self, x_norm):\n",
    "        # x_norm ∈ [-1, 1]\n",
    "        scale = (self.image_max - self.image_min) / 2\n",
    "        shift = (self.image_max + self.image_min) / 2\n",
    "        return x_norm * scale + shift  # output is voxel-space MVF"
   ]
  },
  {
   "cell_type": "code",
   "execution_count": 41,
   "metadata": {},
   "outputs": [],
   "source": [
    "data_sheet = os.path.join(main_path,'Patient_lists/uc/patient_list_MVF_diffusion_train_test_filtered_at_least_10tf.xlsx')\n",
    "# data_sheet = os.path.join(main_path,'Patient_lists/mgh/patient_list_MVF_diffusion_train_test.xlsx')\n",
    "b = Build_list.Build(data_sheet)\n",
    "patient_class_list, patient_id_list,_ = b.__build__(batch_list = [5])\n",
    "patient_class_list = patient_class_list[-20:]\n",
    "patient_id_list = patient_id_list[-20:]"
   ]
  },
  {
   "cell_type": "code",
   "execution_count": 43,
   "metadata": {},
   "outputs": [
    {
     "name": "stderr",
     "output_type": "stream",
     "text": [
      "/tmp/ipykernel_10718/488822437.py:23: FutureWarning: You are using `torch.load` with `weights_only=False` (the current default value), which uses the default pickle module implicitly. It is possible to construct malicious pickle data which will execute arbitrary code during unpickling (See https://github.com/pytorch/pytorch/blob/main/SECURITY.md#untrusted-models for more details). In a future release, the default value for `weights_only` will be flipped to `True`. This limits the functions that could be executed during unpickling. Arbitrary objects will no longer be allowed to be loaded via this mode unless they are explicitly allowlisted by the user via `torch.serialization.add_safe_globals`. We recommend you start setting `weights_only=True` for any use case where you don't have full control of the loaded file. Please open an issue on GitHub for any issues related to this experimental feature.\n",
      "  data = torch.load('/mnt/camca_NAS/4DCT/models/MVF_EDM_down_10tf_imgcon_EFcon_EFpredict/models/model-1077.pt', map_location=device)\n"
     ]
    },
    {
     "data": {
      "text/plain": [
       "<All keys matched successfully>"
      ]
     },
     "execution_count": 43,
     "metadata": {},
     "output_type": "execute_result"
    }
   ],
   "source": [
    "downsample_list = (True, True, False, False)\n",
    "model = ddpm_3D.Unet3D_tfcondition(\n",
    "    init_dim = 64,\n",
    "    channels = 3 * 10,\n",
    "    out_dim = 3 * 10,\n",
    "    conditional_diffusion_image = True,\n",
    "    conditional_diffusion_EF = True,\n",
    "    conditional_diffusion_seg = False,\n",
    "    dim_mults = (1, 2, 4, 8),\n",
    "    downsample_list = downsample_list,\n",
    "    upsample_list = (downsample_list[2], downsample_list[1], downsample_list[0], False),\n",
    "    flash_attn = False, \n",
    "    full_attn = (None, None, False ,False), )\n",
    "diffusion_model = edm.EDM(\n",
    "    model,\n",
    "    image_size = [40,40,24],\n",
    "    num_sample_steps = 100,\n",
    "    clip_or_not = True,\n",
    "    clip_range = [-1,1],)\n",
    "\n",
    "device = torch.device(\"cuda\" if torch.cuda.is_available() else \"cpu\")\n",
    "ema = EMA(diffusion_model);ema.to(device)  \n",
    "data = torch.load('/mnt/camca_NAS/4DCT/models/MVF_EDM_down_10tf_imgcon_EFcon_EFpredict/models/model-1077.pt', map_location=device)\n",
    "diffusion_model.load_state_dict(data['model']); ema.load_state_dict(data[\"ema\"])"
   ]
  },
  {
   "cell_type": "code",
   "execution_count": 128,
   "metadata": {},
   "outputs": [
    {
     "name": "stdout",
     "output_type": "stream",
     "text": [
      "Normal CVC1904240910\n",
      "torch.Size([1, 1, 40, 40, 24])\n"
     ]
    },
    {
     "name": "stderr",
     "output_type": "stream",
     "text": [
      "sampling time step: 100%|██████████| 100/100 [00:03<00:00, 28.84it/s]\n"
     ]
    }
   ],
   "source": [
    "i = 0\n",
    "patient_class = patient_class_list[i]\n",
    "patient_id = patient_id_list[i]\n",
    "print(patient_class, patient_id)\n",
    "   \n",
    "# get EF\n",
    "timeframe_info = pd.read_excel('/mnt/camca_NAS/4DCT/Patient_lists/uc/patient_list_final_selection_timeframes.xlsx')\n",
    "row = timeframe_info[timeframe_info['patient_id'] == patient_id]\n",
    "preset_EF = round(row['EF_sampled_in_10tf_by_mvf'].iloc[0],2) \n",
    "sampled_time_frame_list = ast.literal_eval(row['sampled_time_frame_list'].iloc[0])\n",
    "normalized_time_frame_list = ast.literal_eval(row['normalized_time_frame_list_copy'].iloc[0])\n",
    "\n",
    "generator = Generator.Dataset_dual_3D(\n",
    "                    False,\n",
    "                    patient_class_list = np.asarray([patient_class]),\n",
    "                    patient_id_list = np.asarray([patient_id]),\n",
    "                    mvf_folder = '/workspace/Documents/Data/mvf',\n",
    "                    how_many_timeframes_together = 10,\n",
    "                    mvf_size_3D = [40,40,24],\n",
    "                    latent_size_3D = [40,40,24],\n",
    "                    slice_range = [0,96],\n",
    "                    preset_EF = preset_EF,\n",
    "                    picked_tf = [0.0, 0.1, 0.2, 0.3, 0.4, 0.5, 0.6, 0.7, 0.8, 0.9],\n",
    "                    condition_on_image = True,\n",
    "                    condition_on_seg = False,\n",
    "                    augment_pre_done = True)\n",
    "\n",
    "for i in range(0,len(generator)):\n",
    "    x0_image_data, condition_tf_data, condition_tf_normalized_data, condition_image_data, condition_EF_data,_ = generator[i]\n",
    "\n",
    "condition_image_data = condition_image_data.unsqueeze(0).to(device)\n",
    "print(condition_image_data.shape)\n",
    "condition_EF_data = condition_EF_data.unsqueeze(0).to(device)\n",
    "ema.ema_model.eval()\n",
    "pred_mvf = ema.ema_model.sample(condition_image = condition_image_data, condition_EF = condition_EF_data, condition_seg=None, batch_size = 1)"
   ]
  },
  {
   "cell_type": "code",
   "execution_count": 129,
   "metadata": {},
   "outputs": [
    {
     "name": "stdout",
     "output_type": "stream",
     "text": [
      "Normal CVC2006250902\n"
     ]
    },
    {
     "name": "stderr",
     "output_type": "stream",
     "text": [
      "sampling time step: 100%|██████████| 100/100 [00:03<00:00, 28.80it/s]"
     ]
    },
    {
     "name": "stdout",
     "output_type": "stream",
     "text": [
      "torch.Size([1, 30, 40, 40, 24])\n"
     ]
    },
    {
     "name": "stderr",
     "output_type": "stream",
     "text": [
      "\n"
     ]
    }
   ],
   "source": [
    "i = 6\n",
    "patient_class2 = patient_class_list[i]\n",
    "patient_id2 = patient_id_list[i]\n",
    "print(patient_class2, patient_id2)\n",
    "   \n",
    "# get EF\n",
    "timeframe_info = pd.read_excel('/mnt/camca_NAS/4DCT/Patient_lists/uc/patient_list_final_selection_timeframes.xlsx')\n",
    "row2 = timeframe_info[timeframe_info['patient_id'] == patient_id2]\n",
    "preset_EF2 = round(row2['EF_sampled_in_10tf_by_mvf'].iloc[0],2) \n",
    "sampled_time_frame_list2 = ast.literal_eval(row2['sampled_time_frame_list'].iloc[0])\n",
    "normalized_time_frame_list2 = ast.literal_eval(row2['normalized_time_frame_list_copy'].iloc[0])\n",
    "\n",
    "generator = Generator.Dataset_dual_3D(\n",
    "                    False,\n",
    "                    patient_class_list = np.asarray([patient_class2]),\n",
    "                    patient_id_list = np.asarray([patient_id2]),\n",
    "                    mvf_folder = '/workspace/Documents/Data/mvf',\n",
    "                    how_many_timeframes_together = 10,\n",
    "                    mvf_size_3D = [40,40,24],\n",
    "                    latent_size_3D = [40,40,24],\n",
    "                    slice_range = [0,96],\n",
    "                    preset_EF = preset_EF2,\n",
    "                    picked_tf = [0.0, 0.1, 0.2, 0.3, 0.4, 0.5, 0.6, 0.7, 0.8, 0.9],\n",
    "                    condition_on_image = True,\n",
    "                    condition_on_seg = False,\n",
    "                    augment_pre_done = True)\n",
    "\n",
    "for i in range(0,len(generator)):\n",
    "    x0_image_data2, _,_, condition_image_data2, condition_EF_data2,_ = generator[i]\n",
    "\n",
    "condition_image_data2 = condition_image_data2.unsqueeze(0).to(device)\n",
    "condition_EF_data2 = condition_EF_data2.unsqueeze(0).to(device)\n",
    "ema.ema_model.eval()\n",
    "pred_mvf2 = ema.ema_model.sample(condition_image = condition_image_data2, condition_EF = condition_EF_data2, condition_seg = None,batch_size = 1)\n",
    "print(pred_mvf2.shape)"
   ]
  },
  {
   "cell_type": "code",
   "execution_count": 130,
   "metadata": {},
   "outputs": [],
   "source": [
    "condition_image_data_set = torch.cat((condition_image_data, condition_image_data2), dim = 0)"
   ]
  },
  {
   "cell_type": "code",
   "execution_count": 131,
   "metadata": {},
   "outputs": [
    {
     "name": "stdout",
     "output_type": "stream",
     "text": [
      "range of pred_mvf after denormalization: tensor(-5.1431, device='cuda:0') tensor(4.7622, device='cuda:0')\n",
      "range of pred_mvf2 after denormalization: tensor(-6.9688, device='cuda:0') tensor(6.9214, device='cuda:0')\n",
      "pred_mvf_voxel_set shape: torch.Size([2, 30, 40, 40, 24])\n"
     ]
    }
   ],
   "source": [
    "denormalize_mvf = DeNormalizeMVF(image_min=-20.0, image_max=20.0)\n",
    "pred_mvf_voxel = denormalize_mvf(pred_mvf)\n",
    "pred_mvf_voxel2 = denormalize_mvf(pred_mvf2)\n",
    "print('range of pred_mvf after denormalization:', pred_mvf_voxel.min(), pred_mvf_voxel.max())\n",
    "print('range of pred_mvf2 after denormalization:', pred_mvf_voxel2.min(), pred_mvf_voxel2.max())\n",
    "\n",
    "pred_mvf_voxel_set = torch.cat((pred_mvf_voxel, pred_mvf_voxel2), dim = 0)\n",
    "print('pred_mvf_voxel_set shape:', pred_mvf_voxel_set.shape)\n"
   ]
  },
  {
   "cell_type": "code",
   "execution_count": 132,
   "metadata": {},
   "outputs": [
    {
     "name": "stdout",
     "output_type": "stream",
     "text": [
      "torch.Size([1, 1, 40, 40, 24])\n",
      "shape of seg_img_torch_set: torch.Size([2, 1, 40, 40, 24])\n"
     ]
    }
   ],
   "source": [
    "# load segmentation\n",
    "seg_file = os.path.join('/mnt/camca_NAS/4DCT/mvf_aug', patient_class, patient_id, 'aug_0','segmentation', '0.nii.gz')\n",
    "affine = nb.load(seg_file).affine\n",
    "seg_img = nb.load(seg_file).get_fdata(); seg_img = np.round(seg_img).astype(np.float32)\n",
    "seg_img_torch = torch.from_numpy(seg_img).float().unsqueeze(0).unsqueeze(0).to(device)\n",
    "print(seg_img_torch.shape)\n",
    "\n",
    "seg_file2 = os.path.join('/mnt/camca_NAS/4DCT/mvf_aug', patient_class2, patient_id2, 'aug_0','segmentation', '0.nii.gz')\n",
    "seg_img2 = nb.load(seg_file2).get_fdata(); seg_img2 = np.round(seg_img2).astype(np.float32)\n",
    "seg_img_torch2 = torch.from_numpy(seg_img2).float().unsqueeze(0).unsqueeze(0).to(device)\n",
    "\n",
    "seg_img_torch_set = torch.cat((seg_img_torch, seg_img_torch2), dim = 0)\n",
    "print('shape of seg_img_torch_set:', seg_img_torch_set.shape)"
   ]
  },
  {
   "cell_type": "code",
   "execution_count": 133,
   "metadata": {},
   "outputs": [],
   "source": [
    "def warp_segmentation_from_mvf(seg_t0, mvf_voxel):\n",
    "    \"\"\"\n",
    "    seg_t0:    [B, 1, X, Y, Z] → will be permuted to [B, 1, Z, Y,X]\n",
    "    mvf_voxel: [B, 3, X, Y, Z] → will be permuted to [B, 3, Z, Y,X]\n",
    "    returns:\n",
    "        warped_seg: [B, 1, X, Y, Z]\n",
    "    \"\"\"\n",
    "    # Step 0: permute to [B, 1, Z, Y,X]\n",
    "    seg_t0 = seg_t0.permute(0, 1, 4, 3, 2).contiguous()\n",
    "    mvf_voxel = mvf_voxel.permute(0, 1, 4, 3, 2).contiguous()\n",
    "\n",
    "    B, _, D, H, W = seg_t0.shape  # Z, Y, X\n",
    "    device = seg_t0.device\n",
    "\n",
    "    # Step 1: normalize MVF to [-1, 1]\n",
    "    mvf_norm = torch.zeros_like(mvf_voxel)\n",
    "    mvf_norm[:, 0] = mvf_voxel[:, 0] * 2 / (W - 1)  # dx\n",
    "    mvf_norm[:, 1] = mvf_voxel[:, 1] * 2 / (H - 1)  # dy\n",
    "    mvf_norm[:, 2] = mvf_voxel[:, 2] * 2 / (D - 1)  # dz\n",
    "\n",
    "    # Step 2: create identity grid in Z, Y, X order\n",
    "    grid_z = torch.linspace(-1, 1, D, device=device)\n",
    "    grid_y = torch.linspace(-1, 1, H, device=device)\n",
    "    grid_x = torch.linspace(-1, 1, W, device=device)\n",
    "    meshz, meshy, meshx = torch.meshgrid(grid_z, grid_y, grid_x, indexing='ij')  # [D, H, W]\n",
    "    identity_grid = torch.stack((meshx, meshy, meshz), dim=-1)  # [D, H, W, 3]\n",
    "    identity_grid = identity_grid.unsqueeze(0).repeat(B, 1, 1, 1, 1)  # [B, D, H, W, 3]\n",
    "\n",
    "    # Step 3: add displacement\n",
    "    displacement_grid = identity_grid + mvf_norm.permute(0, 2, 3, 4, 1)  # [B, D, H, W, 3]\n",
    "\n",
    "    # Step 4: warp\n",
    "    warped = F.grid_sample(\n",
    "        seg_t0, displacement_grid,\n",
    "        mode='bilinear', padding_mode='border', align_corners=True\n",
    "    )  # [B, 1, D, H, W]\n",
    "\n",
    "    # Step 5: permute back to [B, 1, X, Y, Z]\n",
    "    warped = warped.permute(0, 1, 4,3, 2).contiguous()\n",
    "\n",
    "    return warped  # [B, 1, X, Y, Z]"
   ]
  },
  {
   "cell_type": "code",
   "execution_count": 134,
   "metadata": {},
   "outputs": [
    {
     "name": "stdout",
     "output_type": "stream",
     "text": [
      "shape of pred_mvf_voxel_set_t_upsample: torch.Size([2, 3, 160, 160, 96])  shape of seg_img_torch_set_upsample: torch.Size([2, 1, 160, 160, 96])\n",
      "shape of seg_t_upsample: (2, 160, 160, 96)\n",
      "range of pred_mvf_voxel_set_t: tensor(-6.4540, device='cuda:0') tensor(6.9214, device='cuda:0')\n",
      "range of pred_mvf_voxel_set_t_upsample: tensor(-6.3700, device='cuda:0') tensor(6.8391, device='cuda:0')\n",
      "range of seg_t_upsample: 0.0 1.0\n"
     ]
    }
   ],
   "source": [
    "pred_mvf_voxel_set_t = pred_mvf_voxel_set[:, 3*4:3*5,...]\n",
    "# pred_mvf_voxel_set_t = torch.zeros_like(pred_mvf_voxel_set_t).to(device)\n",
    "# pred_mvf_voxel_set_t[:, 0] = 10.0\n",
    "seg_t = warp_segmentation_from_mvf(seg_img_torch_set, pred_mvf_voxel_set_t)\n",
    "# turn into numpy\n",
    "seg_t = torch.clone(seg_t).detach().cpu().numpy().squeeze() \n",
    "seg_t = np.round(seg_t)\n",
    "\n",
    "# upsample\n",
    "pred_mvf_voxel_set_t_upsample = F.interpolate(pred_mvf_voxel_set_t, size=(160,160,96), mode='trilinear', align_corners=True)\n",
    "seg_img_torch_set_upsample = F.interpolate(seg_img_torch_set, size=(160,160,96), mode='trilinear', align_corners=True)\n",
    "print('shape of pred_mvf_voxel_set_t_upsample:', pred_mvf_voxel_set_t_upsample.shape, ' shape of seg_img_torch_set_upsample:', seg_img_torch_set_upsample.shape)\n",
    "seg_t_upsample = warp_segmentation_from_mvf(seg_img_torch_set_upsample, pred_mvf_voxel_set_t_upsample)\n",
    "# turn into numpy\n",
    "seg_t_upsample = torch.clone(seg_t_upsample).detach().cpu().numpy().squeeze()\n",
    "seg_t_upsample = np.round(seg_t_upsample)\n",
    "print('shape of seg_t_upsample:', seg_t_upsample.shape)\n",
    "\n",
    "print('range of pred_mvf_voxel_set_t:', pred_mvf_voxel_set_t.min(), pred_mvf_voxel_set_t.max())\n",
    "print('range of pred_mvf_voxel_set_t_upsample:', pred_mvf_voxel_set_t_upsample.min(), pred_mvf_voxel_set_t_upsample.max())\n",
    "print('range of seg_t_upsample:', seg_t_upsample.min(), seg_t_upsample.max())"
   ]
  },
  {
   "cell_type": "code",
   "execution_count": 135,
   "metadata": {},
   "outputs": [
    {
     "name": "stdout",
     "output_type": "stream",
     "text": [
      "(2, 160, 160, 96) (2, 160, 160, 96, 3)\n"
     ]
    }
   ],
   "source": [
    "# use scipy to do the warpping\n",
    "pred_mvf_voxel_set_t = pred_mvf_voxel_set[:, 3*4:3*5,...]\n",
    "# pred_mvf_voxel_set_t = torch.zeros_like(pred_mvf_voxel_set_t).to(device)\n",
    "# pred_mvf_voxel_set_t[:, 0] = 10.0\n",
    "pred_mvf_voxel_set_t_numpy = torch.clone(pred_mvf_voxel_set_t).detach().cpu().numpy().transpose(0,2,3,4,1)\n",
    "condition_image_data_numpy = torch.clone(seg_img_torch_set).detach().cpu().numpy().squeeze()\n",
    "seg_t_approach2 = Data_processing.apply_deformation_field_numpy(np.copy(condition_image_data_numpy[1]), pred_mvf_voxel_set_t_numpy[1],order = 0)\n",
    "\n",
    "# upsample\n",
    "pred_mvf_voxel_set_t_numpy_upsample = torch.clone(pred_mvf_voxel_set_t_upsample).detach().cpu().numpy().transpose(0,2,3,4,1)\n",
    "condition_image_data_numpy_upsample = torch.clone(seg_img_torch_set_upsample).detach().cpu().numpy().squeeze()\n",
    "print(condition_image_data_numpy_upsample.shape, pred_mvf_voxel_set_t_numpy_upsample.shape)\n",
    "\n",
    "seg_t_upsample_approach2 = Data_processing.apply_deformation_field_numpy(np.copy(condition_image_data_numpy_upsample[1]), pred_mvf_voxel_set_t_numpy_upsample[1],order = 0)\n",
    "seg_t_upsample_approach2 = np.round(seg_t_upsample_approach2)\n"
   ]
  },
  {
   "cell_type": "code",
   "execution_count": 136,
   "metadata": {},
   "outputs": [
    {
     "data": {
      "image/png": "[encoded data removed]",
      "text/plain": [
       "<Figure size 1600x400 with 4 Axes>"
      ]
     },
     "metadata": {},
     "output_type": "display_data"
    }
   ],
   "source": [
    "# plot seg_img and seg_t0_numpy side by side\n",
    "import matplotlib.pyplot as plt\n",
    "\n",
    "figure = plt.figure(figsize=(16, 4))\n",
    "plt.subplot(1, 4, 1)\n",
    "plt.title('seg_img')\n",
    "plt.imshow(condition_image_data_numpy_upsample[1,:,:,36], cmap='gray')\n",
    "plt.subplot(1, 4, 2)\n",
    "plt.title('mvf')\n",
    "plt.imshow(pred_mvf_voxel_set_t_numpy_upsample[1,:,:,36,0], cmap='gray')\n",
    "\n",
    "plt.subplot(1, 4, 3)\n",
    "plt.title('seg_t_numpy')\n",
    "plt.imshow(seg_t_upsample[1,:,:,36] , cmap='gray')\n",
    "plt.subplot(1, 4, 4)\n",
    "plt.title('seg_t_approach2')\n",
    "plt.imshow(seg_t_upsample_approach2[:,:,36], cmap='gray')\n",
    "plt.show()\n",
    "\n"
   ]
  },
  {
   "cell_type": "code",
   "execution_count": 137,
   "metadata": {},
   "outputs": [
    {
     "data": {
      "image/png": "[encoded data removed]",
      "text/plain": [
       "<Figure size 1600x400 with 4 Axes>"
      ]
     },
     "metadata": {},
     "output_type": "display_data"
    }
   ],
   "source": [
    "# plot seg_img and seg_t0_numpy side by side\n",
    "import matplotlib.pyplot as plt\n",
    "\n",
    "figure = plt.figure(figsize=(16, 4))\n",
    "plt.subplot(1, 4, 1)\n",
    "plt.title('seg_img')\n",
    "plt.imshow(condition_image_data_numpy[1,:,:,9], cmap='gray')\n",
    "plt.subplot(1, 4, 2)\n",
    "plt.title('mvf')\n",
    "plt.imshow(pred_mvf_voxel_set_t_numpy[1,:,:,9,0], cmap='gray')\n",
    "\n",
    "plt.subplot(1, 4, 3)\n",
    "plt.title('seg_t_numpy')\n",
    "plt.imshow(seg_t[1,:,:,9], cmap='gray')\n",
    "plt.subplot(1, 4, 4)\n",
    "plt.title('seg_t_approach2')\n",
    "plt.imshow(seg_t_approach2[:,:,9], cmap='gray')\n",
    "plt.show()\n"
   ]
  },
  {
   "cell_type": "markdown",
   "metadata": {},
   "source": [
    "### main function"
   ]
  },
  {
   "cell_type": "code",
   "execution_count": 138,
   "metadata": {},
   "outputs": [
    {
     "name": "stdout",
     "output_type": "stream",
     "text": [
      "volumes:  tensor([[93243.2656, 92159.2969, 87009.0859, 78191.4219, 73502.1406, 73636.5469,\n",
      "         81631.2578, 87232.9062, 90053.1562, 90911.6562],\n",
      "        [77459.2188, 75802.6172, 69173.9141, 61789.8672, 58098.4531, 58060.2891,\n",
      "         63945.7500, 69177.7969, 72161.7656, 74336.5781]], device='cuda:0')\n",
      "tensor([0.2117, 0.2504], device='cuda:0')\n"
     ]
    }
   ],
   "source": [
    "B,T,X,Y,Z = pred_mvf_voxel_set.shape\n",
    "seg_img_torch_set_upsample = F.interpolate(seg_img_torch_set, size=(4*X, 4*Y, 4*Z), mode='trilinear', align_corners=True)\n",
    "volume_list = []\n",
    "for t in range(10):\n",
    "    pred_mvf_voxel_set_t = pred_mvf_voxel_set[:, 3*t:3*(t+1),...]\n",
    "    pred_mvf_voxel_set_t_upsample = F.interpolate(pred_mvf_voxel_set_t, size=(4*X, 4*Y, 4*Z), mode='trilinear', align_corners=True)\n",
    "    warped_seg_t = warp_segmentation_from_mvf(seg_img_torch_set_upsample, pred_mvf_voxel_set_t_upsample)\n",
    "    # print('warped_seg_t shape:', warped_seg_t.shape)\n",
    "    volume_t = warped_seg_t.sum(dim=(1,2,3,4))\n",
    "    volume_list.append(volume_t)\n",
    "volumes = torch.stack(volume_list, dim = 1)\n",
    "print('volumes: ',volumes)\n",
    "v0 = volumes[:,0]\n",
    "vmin = volumes.min(dim=1).values\n",
    "ef_pred = (v0-vmin) / (v0 )\n",
    "print(ef_pred)"
   ]
  },
  {
   "cell_type": "code",
   "execution_count": 141,
   "metadata": {},
   "outputs": [
    {
     "name": "stdout",
     "output_type": "stream",
     "text": [
      "volume_list_approach2: [92305 92125 85807 76494 72091 72150 80433 86333 90539 92035]\n",
      "0.21899138724879474\n"
     ]
    }
   ],
   "source": [
    "# use scipy\n",
    "volume_list_approach2 = []\n",
    "for t in range(10):\n",
    "    pred_mvf_voxel_set_t = pred_mvf_voxel_set[:, 3*t:3*(t+1),...]\n",
    "    pred_mvf_voxel_set_t_upsample = F.interpolate(pred_mvf_voxel_set_t, size=(4*X, 4*Y, 4*Z), mode='trilinear', align_corners=True)\n",
    "    pred_mvf_voxel_set_t_numpy = torch.clone(pred_mvf_voxel_set_t_upsample).detach().cpu().numpy().transpose(0,2,3,4,1)\n",
    "\n",
    "\n",
    "    seg_img_torch_set_upsample_numpy = torch.clone(seg_img_torch_set_upsample).detach().cpu().numpy().squeeze()\n",
    "    warped_seg_t = Data_processing.apply_deformation_field_numpy(seg_img_torch_set_upsample_numpy[0], pred_mvf_voxel_set_t_numpy[0],order = 0)\n",
    "    warped_seg_t = np.round(warped_seg_t)\n",
    "    volume_t = np.sum(warped_seg_t == 1)\n",
    "    volume_list_approach2.append(volume_t)\n",
    "volume_list_approach2 = np.array(volume_list_approach2)\n",
    "print('volume_list_approach2:', volume_list_approach2)\n",
    "ef = (volume_list_approach2[0] - np.min(volume_list_approach2)) / volume_list_approach2[0]\n",
    "print(ef)"
   ]
  },
  {
   "cell_type": "code",
   "execution_count": 143,
   "metadata": {},
   "outputs": [
    {
     "name": "stdout",
     "output_type": "stream",
     "text": [
      "volume_list_approach3: [92641 92269 86045 76679 72402 72452 80525 86588 90428 92153]\n",
      "0.2184669854600015\n"
     ]
    }
   ],
   "source": [
    "# use scipy + zoom\n",
    "volume_list_approach3 = []\n",
    "for t in range(10):\n",
    "    pred_mvf_voxel_set_t = pred_mvf_voxel_set[:, 3*t:3*(t+1),...]\n",
    "    pred_mvf_voxel_set_t_numpy = torch.clone(pred_mvf_voxel_set_t).detach().cpu().numpy().transpose(0,2,3,4,1)\n",
    "    pred_mvf_voxel_set_t_numpy = zoom(pred_mvf_voxel_set_t_numpy, (1, 4, 4, 4, 1), order=0)  # zoom to (B, 160, 160, 96, 3)\n",
    "\n",
    "\n",
    "    seg_img2_upsample = zoom(seg_img, (4, 4, 4), order=0)  # zoom to (160, 160, 96)\n",
    "    warped_seg_t = Data_processing.apply_deformation_field_numpy(seg_img2_upsample, pred_mvf_voxel_set_t_numpy[0],order = 0)\n",
    "    warped_seg_t = np.round(warped_seg_t)\n",
    "    volume_t = np.sum(warped_seg_t == 1)\n",
    "    volume_list_approach3.append(volume_t)\n",
    "volume_list_approach3 = np.array(volume_list_approach3)\n",
    "print('volume_list_approach3:', volume_list_approach3)\n",
    "ef = (volume_list_approach3[0] - np.min(volume_list_approach3)) / volume_list_approach3[0]\n",
    "print(ef)"
   ]
  }
 ],
 "metadata": {
  "kernelspec": {
   "display_name": "Python 3",
   "language": "python",
   "name": "python3"
  },
  "language_info": {
   "codemirror_mode": {
    "name": "ipython",
    "version": 3
   },
   "file_extension": ".py",
   "mimetype": "text/x-python",
   "name": "python",
   "nbconvert_exporter": "python",
   "pygments_lexer": "ipython3",
   "version": "3.8.10"
  }
 },
 "nbformat": 4,
 "nbformat_minor": 2
}
